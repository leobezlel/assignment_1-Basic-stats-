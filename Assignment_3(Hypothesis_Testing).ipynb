{
  "nbformat": 4,
  "nbformat_minor": 0,
  "metadata": {
    "colab": {
      "provenance": [],
      "authorship_tag": "ABX9TyPHA6s9wgDlvVHZ2rV/JAyy",
      "include_colab_link": true
    },
    "kernelspec": {
      "name": "python3",
      "display_name": "Python 3"
    },
    "language_info": {
      "name": "python"
    }
  },
  "cells": [
    {
      "cell_type": "markdown",
      "metadata": {
        "id": "view-in-github",
        "colab_type": "text"
      },
      "source": [
        "<a href=\"https://colab.research.google.com/github/leobezlel/excelr-assignments/blob/main/Assignment_3(Hypothesis_Testing).ipynb\" target=\"_parent\"><img src=\"https://colab.research.google.com/assets/colab-badge.svg\" alt=\"Open In Colab\"/></a>"
      ]
    },
    {
      "cell_type": "code",
      "execution_count": 1,
      "metadata": {
        "id": "HFobLlmnVWRo"
      },
      "outputs": [],
      "source": [
        "import numpy as np\n",
        "from scipy.stats import norm"
      ]
    },
    {
      "cell_type": "code",
      "source": [
        "# Given data\n",
        "sample_mean = 3050\n",
        "theoretical_mean = 1000 + 5 * 600\n",
        "std_dev = 5 * 25\n",
        "n = 25\n",
        "alpha = 0.05"
      ],
      "metadata": {
        "id": "SdEfjOQDVrDr"
      },
      "execution_count": 2,
      "outputs": []
    },
    {
      "cell_type": "code",
      "source": [
        "# Calculate the test statistic (t)\n",
        "t_statistic = (sample_mean - theoretical_mean) / (std_dev / np.sqrt(n))"
      ],
      "metadata": {
        "id": "K24Y_iqcVsc3"
      },
      "execution_count": 3,
      "outputs": []
    },
    {
      "cell_type": "code",
      "source": [
        "# Determine the critical value from the standard normal distribution\n",
        "critical_value = norm.ppf(1 - alpha)"
      ],
      "metadata": {
        "id": "aWzb2c3KVuNg"
      },
      "execution_count": 4,
      "outputs": []
    },
    {
      "cell_type": "code",
      "source": [
        "# Make a decision\n",
        "if t_statistic > critical_value:\n",
        "    conclusion = \"Reject the null hypothesis\"\n",
        "else:\n",
        "    conclusion = \"Fail to reject the null hypothesis\""
      ],
      "metadata": {
        "id": "714oJrm5Vv2k"
      },
      "execution_count": 5,
      "outputs": []
    },
    {
      "cell_type": "code",
      "source": [
        "# Conclusion\n",
        "if conclusion == \"Reject the null hypothesis\":\n",
        "    evidence = \"strong evidence\"\n",
        "else:\n",
        "    evidence = \"no strong evidence\"\n",
        "\n",
        "print(\"Test Statistic (t):\", t_statistic)\n",
        "print(\"Critical Value:\", critical_value)\n",
        "print(\"Decision:\", conclusion)\n",
        "print(\"Conclusion: Based on the decision, there is\", evidence, \"to support the restaurant owners' claim.\")"
      ],
      "metadata": {
        "colab": {
          "base_uri": "https://localhost:8080/"
        },
        "id": "JtHx1BfEVx8X",
        "outputId": "11bd3c9f-6a47-4265-cfdd-8c0df23502ed"
      },
      "execution_count": 6,
      "outputs": [
        {
          "output_type": "stream",
          "name": "stdout",
          "text": [
            "Test Statistic (t): -38.0\n",
            "Critical Value: 1.6448536269514722\n",
            "Decision: Fail to reject the null hypothesis\n",
            "Conclusion: Based on the decision, there is no strong evidence to support the restaurant owners' claim.\n"
          ]
        }
      ]
    },
    {
      "cell_type": "code",
      "source": [],
      "metadata": {
        "id": "8aMtTVqIV0fO"
      },
      "execution_count": null,
      "outputs": []
    }
  ]
}