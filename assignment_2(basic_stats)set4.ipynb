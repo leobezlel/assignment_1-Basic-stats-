{
  "nbformat": 4,
  "nbformat_minor": 0,
  "metadata": {
    "colab": {
      "provenance": [],
      "authorship_tag": "ABX9TyM4146x3azouGE5zeytGHeO",
      "include_colab_link": true
    },
    "kernelspec": {
      "name": "python3",
      "display_name": "Python 3"
    },
    "language_info": {
      "name": "python"
    }
  },
  "cells": [
    {
      "cell_type": "markdown",
      "metadata": {
        "id": "view-in-github",
        "colab_type": "text"
      },
      "source": [
        "<a href=\"https://colab.research.google.com/github/leobezlel/excelr-assignments/blob/main/assignment_2(basic_stats)set4.ipynb\" target=\"_parent\"><img src=\"https://colab.research.google.com/assets/colab-badge.svg\" alt=\"Open In Colab\"/></a>"
      ]
    },
    {
      "cell_type": "markdown",
      "source": [
        "# 1)"
      ],
      "metadata": {
        "id": "O5BFtovT3MzB"
      }
    },
    {
      "cell_type": "code",
      "execution_count": null,
      "metadata": {
        "id": "G58Oy5bV1z61"
      },
      "outputs": [],
      "source": [
        "#I)\n",
        "Plot 1 and Plot 3 suggest that the data is nearly normal."
      ]
    },
    {
      "cell_type": "code",
      "source": [
        "#II)\n",
        "None of the plots show a bimodal distribution."
      ],
      "metadata": {
        "id": "vGHiXwGR7w6N"
      },
      "execution_count": null,
      "outputs": []
    },
    {
      "cell_type": "code",
      "source": [
        "#III)\n",
        "Plot 2 appears to be skewed towards the right, indicating positive skewness."
      ],
      "metadata": {
        "id": "8zwYg17f70LJ"
      },
      "execution_count": null,
      "outputs": []
    },
    {
      "cell_type": "code",
      "source": [
        "#IV)\n",
        "Plot 4 shows potential outliers on both the lower and upper ends of the distribution.\n",
        " However, Plot 2 also shows a potential outlier on the lower end of the distribution, while Plot 3 shows a potential outlier on the upper end."
      ],
      "metadata": {
        "id": "jmId7nGv77mX"
      },
      "execution_count": null,
      "outputs": []
    },
    {
      "cell_type": "markdown",
      "source": [
        "# 2)"
      ],
      "metadata": {
        "id": "4-AFQzEp3PPi"
      }
    },
    {
      "cell_type": "code",
      "source": [
        "(i)\n",
        "True.\n",
        "The Central Limit Theorem states that if you have a population with mean μ and standard deviation σ and take sufficiently large random samples from the population with replacement,\n",
        " then the distribution of the sample means will be approximately normally distributed.\n",
        " This will hold true regardless of whether the source population is normal or skewed, provided the sample size is sufficiently large (usually n > 30)."
      ],
      "metadata": {
        "id": "pnpA8tgJ3O8E"
      },
      "execution_count": null,
      "outputs": []
    },
    {
      "cell_type": "code",
      "source": [
        "(ii)\n",
        "False.\n",
        "The standard error of the sample mean (often denoted as SE()) is calculated as the standard deviation of the sampling distribution divided by the square root of the sample size.\n",
        "In this case, the sample size is 25, and the standard deviation of the population is 5 lbs.\n",
        "Therefore, the standard error of the daily average can be calculated as:\n",
        "SE() = σ / sqrt(n) = 5 lbs / sqrt(25) = 1 lb\n",
        "So, the standard error of the daily average is not 1, but rather 1 lb."
      ],
      "metadata": {
        "id": "GHNkCWQG31Js"
      },
      "execution_count": null,
      "outputs": []
    },
    {
      "cell_type": "markdown",
      "source": [
        "# 3)"
      ],
      "metadata": {
        "id": "t6ZxUwv14LPH"
      }
    },
    {
      "cell_type": "code",
      "source": [
        "first calculate the standard error of the sample mean:\n",
        "Standard error = σ / sqrt(n) = 40 / sqrt(100) = 4\n",
        "The investigations will occur if the sample mean falls outside the range of $45 to $55. In other words, if the sample mean is less than $45 or greater than $55. We can calculate the z-scores for these values:\n",
        "Z1 = (45 - 50) / 4 = -1.25 Z2 = (55 - 50) / 4 = 1.25\n",
        "we can calculate the probability of the sample mean falling outside this range:\n",
        "\n",
        "P(Z < -1.25) + P(Z > 1.25) = 0.1056 + 0.1056 = 0.2112\n",
        "\n",
        "Therefore, the probability that there will be an investigation in any given week is approximately 21.12%"
      ],
      "metadata": {
        "id": "R3gUIfbS4KZh"
      },
      "execution_count": null,
      "outputs": []
    },
    {
      "cell_type": "markdown",
      "source": [
        "# 4)"
      ],
      "metadata": {
        "id": "UlIACCgg4nww"
      }
    },
    {
      "cell_type": "code",
      "source": [
        "Let X1 = 45 and X2 = 55, and let μ = 50 and σ = 40.\n",
        "We want to find n such that:\n",
        "P(X1 < X̄ < X2) = 0.95\n",
        "where X̄ is the sample mean.\n",
        "Using the z-score formula, we have:\n",
        "0.95 = P( (X1 - μ) / (σ / √n) < Z < (X2 - μ) / (σ / √n) )\n",
        "where Z is the standard normal distribution.\n",
        "Solving for n, we get:\n",
        "n = ( (Z_alpha/2) * σ / (X2 - X1) )^2\n",
        "where Z_alpha/2 is the z-score corresponding to a 95% confidence level, which is 1.96.\n",
        "Plugging in the values, we get:\n",
        "n = ( (1.96 * 40) / (55 - 45) )^2\n",
        "n = 196\n",
        "Therefore, the minimum sample size is 196 transactions.\n",
        "The answer is:\n",
        "196"
      ],
      "metadata": {
        "id": "9pqAz8H_4nLD"
      },
      "execution_count": null,
      "outputs": []
    },
    {
      "cell_type": "markdown",
      "source": [
        "# 5)"
      ],
      "metadata": {
        "id": "8fWzv4sK7dtI"
      }
    },
    {
      "cell_type": "code",
      "source": [
        "The mean score in any sample will be 720.\n",
        "The mean score of the population is 720, and the sample is selected randomly, so the mean score of any sample is likely to be around 720."
      ],
      "metadata": {
        "id": "2QtmaAtn7dP1"
      },
      "execution_count": null,
      "outputs": []
    }
  ]
}