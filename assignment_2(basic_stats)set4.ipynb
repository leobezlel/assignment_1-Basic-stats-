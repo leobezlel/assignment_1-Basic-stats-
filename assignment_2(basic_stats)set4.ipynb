{
  "nbformat": 4,
  "nbformat_minor": 0,
  "metadata": {
    "colab": {
      "provenance": [],
      "authorship_tag": "ABX9TyPVATT9HpecUUCir12bWvmm",
      "include_colab_link": true
    },
    "kernelspec": {
      "name": "python3",
      "display_name": "Python 3"
    },
    "language_info": {
      "name": "python"
    }
  },
  "cells": [
    {
      "cell_type": "markdown",
      "metadata": {
        "id": "view-in-github",
        "colab_type": "text"
      },
      "source": [
        "<a href=\"https://colab.research.google.com/github/leobezlel/excelr-assignments/blob/main/assignment_2(basic_stats)set4.ipynb\" target=\"_parent\"><img src=\"https://colab.research.google.com/assets/colab-badge.svg\" alt=\"Open In Colab\"/></a>"
      ]
    },
    {
      "cell_type": "markdown",
      "source": [
        "# 1)"
      ],
      "metadata": {
        "id": "O5BFtovT3MzB"
      }
    },
    {
      "cell_type": "code",
      "execution_count": null,
      "metadata": {
        "id": "G58Oy5bV1z61"
      },
      "outputs": [],
      "source": [
        "#I)\n",
        "Plot 1 and Plot 3 suggest that the data is nearly normal."
      ]
    },
    {
      "cell_type": "code",
      "source": [
        "#II)\n",
        "None of the plots show a bimodal distribution."
      ],
      "metadata": {
        "id": "vGHiXwGR7w6N"
      },
      "execution_count": null,
      "outputs": []
    },
    {
      "cell_type": "code",
      "source": [
        "#III)\n",
        "Plot 2 appears to be skewed towards the right, indicating positive skewness."
      ],
      "metadata": {
        "id": "8zwYg17f70LJ"
      },
      "execution_count": null,
      "outputs": []
    },
    {
      "cell_type": "code",
      "source": [
        "#IV)\n",
        "Plot 4 shows potential outliers on both the lower and upper ends of the distribution.\n",
        " However, Plot 2 also shows a potential outlier on the lower end of the distribution, while Plot 3 shows a potential outlier on the upper end."
      ],
      "metadata": {
        "id": "jmId7nGv77mX"
      },
      "execution_count": null,
      "outputs": []
    },
    {
      "cell_type": "markdown",
      "source": [
        "# 2)"
      ],
      "metadata": {
        "id": "4-AFQzEp3PPi"
      }
    },
    {
      "cell_type": "code",
      "source": [
        "(i)\n",
        "True.\n",
        "The sampling distribution of the sample mean follows a normal distribution if the population is normally distributed\n",
        " (i.e., bell-shaped curve) or if the sample size is large enough."
      ],
      "metadata": {
        "id": "pnpA8tgJ3O8E"
      },
      "execution_count": null,
      "outputs": []
    },
    {
      "cell_type": "code",
      "source": [
        "(ii)\n",
        "False.\n",
        "The standard error of the daily average is calculated by dividing the population standard deviation by the square root of the sample size, which is:\n",
        "\n",
        "σ / sqrt(n) = 5 lbs / sqrt(25) = 5 lbs / 5 = 1 lb\n",
        "\n",
        "Therefore, the standard error of the daily average is actually 1 lb, not 1."
      ],
      "metadata": {
        "id": "GHNkCWQG31Js"
      },
      "execution_count": null,
      "outputs": []
    },
    {
      "cell_type": "markdown",
      "source": [
        "# 3)"
      ],
      "metadata": {
        "id": "t6ZxUwv14LPH"
      }
    },
    {
      "cell_type": "code",
      "source": [
        "First, we need to calculate the z-scores for the values of  45and 55, using the formula:\n",
        "\n",
        "z = (X - μ) / (σ / sqrt(n))\n",
        "\n",
        "where X is the value of interest, μ is the population mean, σ is the population standard deviation, and n is the sample size.\n",
        "\n",
        "For X = $45, the z-score is:\n",
        "\n",
        "z = (45 - 50) / (40 / sqrt(100)) z = -5 / 4 z = -1.25\n",
        "\n",
        "For X = $55, the z-score is:\n",
        "\n",
        "z = (55 - 50) / (40 / sqrt(100)) z = 5 / 4 z = 1.25\n",
        "\n",
        "Now, we can find the probability that the mean transaction amount of the sample is between  45and 55, by calculating the area under the standard normal curve between the two z-scores.\n",
        "\n",
        "P(-1.25 < Z < 1.25) = 0.8944 - 0.1056 = 0.7888\n",
        "\n",
        "The probability that in any given week, there will be an investigation is therefore:\n",
        "\n",
        "1 - 0.7888 = 0.2112\n",
        "\n",
        "Therefore, the answer is (21.1%)."
      ],
      "metadata": {
        "id": "R3gUIfbS4KZh"
      },
      "execution_count": null,
      "outputs": []
    },
    {
      "cell_type": "markdown",
      "source": [
        "# 4)"
      ],
      "metadata": {
        "id": "UlIACCgg4nww"
      }
    },
    {
      "cell_type": "code",
      "source": [
        "Let X1 = 45 and X2 = 55, and let μ = 50 and σ = 40.\n",
        "We want to find n such that:\n",
        "P(X1 < X̄ < X2) = 0.95\n",
        "where X̄ is the sample mean.\n",
        "Using the z-score formula, we have:\n",
        "0.95 = P( (X1 - μ) / (σ / √n) < Z < (X2 - μ) / (σ / √n) )\n",
        "where Z is the standard normal distribution.\n",
        "Solving for n, we get:\n",
        "n = ( (Z_alpha/2) * σ / (X2 - X1) )^2\n",
        "where Z_alpha/2 is the z-score corresponding to a 95% confidence level, which is 1.96.\n",
        "Plugging in the values, we get:\n",
        "n = ( (1.96 * 40) / (55 - 45) )^2\n",
        "n = 196\n",
        "Therefore, the minimum sample size is 196 transactions.\n",
        "The answer is:\n",
        "196"
      ],
      "metadata": {
        "id": "9pqAz8H_4nLD"
      },
      "execution_count": null,
      "outputs": []
    },
    {
      "cell_type": "markdown",
      "source": [
        "# 5)"
      ],
      "metadata": {
        "id": "8fWzv4sK7dtI"
      }
    },
    {
      "cell_type": "code",
      "source": [
        "The mean score in any sample will be 720.\n",
        "The mean score of the population is 720, and the sample is selected randomly, so the mean score of any sample is likely to be around 720."
      ],
      "metadata": {
        "id": "2QtmaAtn7dP1"
      },
      "execution_count": null,
      "outputs": []
    }
  ]
}