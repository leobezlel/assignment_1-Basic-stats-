{
  "nbformat": 4,
  "nbformat_minor": 0,
  "metadata": {
    "colab": {
      "provenance": [],
      "authorship_tag": "ABX9TyOeH6gn/NV3KpRgaN2fiyRw",
      "include_colab_link": true
    },
    "kernelspec": {
      "name": "python3",
      "display_name": "Python 3"
    },
    "language_info": {
      "name": "python"
    }
  },
  "cells": [
    {
      "cell_type": "markdown",
      "metadata": {
        "id": "view-in-github",
        "colab_type": "text"
      },
      "source": [
        "<a href=\"https://colab.research.google.com/github/leobezlel/excelr-assignments/blob/main/assignment_2(basic_stats)set3.ipynb\" target=\"_parent\"><img src=\"https://colab.research.google.com/assets/colab-badge.svg\" alt=\"Open In Colab\"/></a>"
      ]
    },
    {
      "cell_type": "markdown",
      "source": [
        "# 1)"
      ],
      "metadata": {
        "id": "DUpH1-WrsA_R"
      }
    },
    {
      "cell_type": "code",
      "execution_count": null,
      "metadata": {
        "id": "Rbue2LuBro5y"
      },
      "outputs": [],
      "source": [
        "#I)\n",
        "False.\n",
        "While having a sample size that is a fixed percentage of the population size can be a rule of thumb in some cases,\n",
        "it's not an absolute requirement for producing representative results.\n",
        "The adequacy of a sample size depends on various factors such as the population heterogeneity,\n",
        "desired level of confidence, and the margin of error.\n",
        "It's more important to ensure that the sample is sufficiently large and chosen randomly or through a representative sampling method to accurately reflect the population's characteristics and minimize bias.\n"
      ]
    },
    {
      "cell_type": "code",
      "source": [
        "#II)\n",
        "False.\n",
        "The sampling frame is not necessarily a list of every item that appears in a survey sample, including those that did not respond to questions.\n",
        "Rather, it is a list or a description of the target population from which the sample is drawn.\n",
        "It should ideally include all elements of the population being studied, but in practice, it might not be exhaustive due to practical limitations such as incomplete lists or inaccessible population subsets."
      ],
      "metadata": {
        "id": "OdaqVB1wsQrs"
      },
      "execution_count": null,
      "outputs": []
    },
    {
      "cell_type": "code",
      "source": [
        "#III)\n",
        "False.\n",
        "While larger surveys often provide more statistically reliable estimates, the accuracy of a survey depends on various factors beyond just its size.\n",
        "The quality of sampling methods, the representativeness of the sample, and the precision of the questions all play crucial roles in determining the accuracy of survey results.\n",
        "Additionally, larger surveys may also incur higher costs and logistical challenges.\n",
        "Therefore, while larger surveys can potentially reduce sampling errors, they do not automatically guarantee a more accurate impression of the population."
      ],
      "metadata": {
        "id": "5OO7NO47sg7W"
      },
      "execution_count": null,
      "outputs": []
    },
    {
      "cell_type": "markdown",
      "source": [
        "# 2)"
      ],
      "metadata": {
        "id": "Hg3OoCbTs3As"
      }
    },
    {
      "cell_type": "code",
      "source": [
        "#A)\n",
        "The population in this scenario would be all readers of PC Magazine who were asked to participate in the survey regarding their satisfaction with different brands of electronics."
      ],
      "metadata": {
        "id": "hcCx818Ls157"
      },
      "execution_count": null,
      "outputs": []
    },
    {
      "cell_type": "code",
      "source": [
        "#B)\n",
        "The parameter of interest in this scenario is the population average satisfaction rating for the Kodak compact digital camera among all readers of PC Magazine who participated in the survey."
      ],
      "metadata": {
        "id": "q5ajpTGmtV9E"
      },
      "execution_count": null,
      "outputs": []
    },
    {
      "cell_type": "code",
      "source": [
        "#C)\n",
        "The sampling frame in this scenario would be all readers of PC Magazine who participated in the survey of their satisfaction with different brands of electronics."
      ],
      "metadata": {
        "id": "hVtx-7gwtmwo"
      },
      "execution_count": null,
      "outputs": []
    },
    {
      "cell_type": "code",
      "source": [
        "#D)\n",
        "The sample size for the Kodak compact digital camera in the survey conducted by PC Magazine is 225 readers."
      ],
      "metadata": {
        "id": "qPtmie8Rtov2"
      },
      "execution_count": null,
      "outputs": []
    },
    {
      "cell_type": "code",
      "source": [
        "#E)\n",
        "The sampling design for the PC Magazine survey appears to be convenience sampling, specifically self-selection sampling.\n",
        "Convenience sampling involves selecting individuals who are easily accessible or readily available to participate in the survey.\n",
        "In this case, PC Magazine asked all of its readers to participate, which means that readers who chose to respond did so voluntarily,\n",
        " without any random selection process.\n",
        " Therefore, the readers who participated in the survey self-selected themselves based on their interest or willingness to participate, which is characteristic of convenience sampling."
      ],
      "metadata": {
        "id": "qi2hPhdotv2o"
      },
      "execution_count": null,
      "outputs": []
    },
    {
      "cell_type": "code",
      "source": [
        "#F)\n",
        "Self-selection bias: Since PC Magazine asked all of its readers to participate, the survey suffers from self-selection bias\n",
        "Response bias: Those who choose to respond may have different characteristics or opinions compared to those who do not respond.\n",
        "Sampling method: The survey was conducted among PC Magazine readers, which may not represent the broader population of consumers."
      ],
      "metadata": {
        "id": "7qlR5HF0t_Jn"
      },
      "execution_count": null,
      "outputs": []
    },
    {
      "cell_type": "markdown",
      "source": [
        "# 3)"
      ],
      "metadata": {
        "id": "0ZuMFeHvurco"
      }
    },
    {
      "cell_type": "code",
      "source": [
        "#I)\n",
        "True.\n",
        "If the 95% confidence interval for the average purchase of customers at a department store is $50 to $110,\n",
        "it means that we are 95% confident that the true population mean falls within this range.\n",
        "Since $100 falls within the confidence interval ($50 to $110), it is indeed a plausible value for the population mean at this level of confidence."
      ],
      "metadata": {
        "id": "qXWFqXlWurK5"
      },
      "execution_count": null,
      "outputs": []
    },
    {
      "cell_type": "code",
      "source": [
        "#II)\n",
        "False.\n",
        "The statement is false because the 95% confidence interval (30% to 45%) represents the range within which we are 95% confident that the true proportion of moviegoers who purchase concessions lies.\n",
        "It doesn't necessarily mean that fewer than half of all moviegoers purchase concessions."
      ],
      "metadata": {
        "id": "s4GpSqQfvD0M"
      },
      "execution_count": null,
      "outputs": []
    },
    {
      "cell_type": "code",
      "source": [
        "#III)\n",
        "False.\n",
        "The 95% confidence interval for the population mean (μ) does not strictly require the sample data to be nearly normally distributed.\n",
        "The Central Limit Theorem (CLT) states that, regardless of the distribution of the population,\n",
        "the sampling distribution of the sample mean approaches a normal distribution as the sample size increases."
      ],
      "metadata": {
        "id": "Ta2J8n4svTLW"
      },
      "execution_count": null,
      "outputs": []
    },
    {
      "cell_type": "markdown",
      "source": [
        "# 4)"
      ],
      "metadata": {
        "id": "X1vBearjvwuw"
      }
    },
    {
      "cell_type": "code",
      "source": [
        "The answer is 1, as it is the most high value available in option."
      ],
      "metadata": {
        "id": "BtLOEiXlvhhG"
      },
      "execution_count": null,
      "outputs": []
    },
    {
      "cell_type": "markdown",
      "source": [
        "# 5)"
      ],
      "metadata": {
        "id": "FY60iotfwCQX"
      }
    },
    {
      "cell_type": "code",
      "source": [
        "#I)\n",
        "No, Microsoft cannot conclude that Mozilla Firefox has a less than 5% share of the market based solely on this information.\n",
        "The reported 4.6% share of the market for Mozilla Firefox is based on a sample of Internet users monitored by WebSideStory.\n",
        "However, without additional information about the sampling methodology, the representativeness of the sample, and potential sources of bias,\n",
        "it is not appropriate to directly infer the true population share of Mozilla Firefox from this single statistic.\n",
        "Furthermore, even if the sample of 2,000 users were sufficient and representative,\n",
        "concluding that Mozilla Firefox has a less than 5% share of the market would require a statistical hypothesis test.\n",
        "The reported share of 4.6% would need to be compared to a null hypothesis value of 5% using appropriate statistical methods to determine if the difference is statistically significant."
      ],
      "metadata": {
        "id": "xQ0weEbrv7V4"
      },
      "execution_count": null,
      "outputs": []
    },
    {
      "cell_type": "code",
      "source": [
        "#II)\n",
        "If WebSideStory's sample includes all the daily Internet users, then the 4.6% share of the market they reported for Mozilla Firefox is based on the entire population of Internet users.\n",
        "In this case, Microsoft can indeed conclude that Mozilla has a less than 5% share of the market.\n",
        "This is because a share of 4.6% is less than 5%, and when a sample includes the entire population of interest,\n",
        "there is no sampling error, and the sample percentage is the same as the population percentage.\n",
        "Therefore, Microsoft can rely on the figure reported by WebSideStory to make conclusions about the market share of Mozilla Firefox"
      ],
      "metadata": {
        "id": "-HIVT9QZwf48"
      },
      "execution_count": null,
      "outputs": []
    },
    {
      "cell_type": "markdown",
      "source": [
        "# 6)"
      ],
      "metadata": {
        "id": "yuy3tL5AxTCZ"
      }
    },
    {
      "cell_type": "code",
      "source": [
        "The correct anwer is C.\n",
        "The procedure that produced this interval generates ranges that hold the population mean for 95% of samples."
      ],
      "metadata": {
        "id": "Po9VEi7fxSdE"
      },
      "execution_count": null,
      "outputs": []
    },
    {
      "cell_type": "markdown",
      "source": [
        "# 7)"
      ],
      "metadata": {
        "id": "T-dAJzIsxr29"
      }
    },
    {
      "cell_type": "code",
      "source": [
        "Both are equal\n",
        "Both the z-interval and the t-interval will be the same if we know that σ = s.\n",
        "The z-interval is used when the population standard deviation (σ) is known and the t-interval is used when the sample standard deviation (s) is used as an estimate of the population standard deviation.\n",
        "However, when σ = s, the t-distribution reduces to the standard normal distribution (Z-distribution) and the t-interval becomes the same as the z-interval."
      ],
      "metadata": {
        "id": "-bxhYHH5xq-U"
      },
      "execution_count": null,
      "outputs": []
    },
    {
      "cell_type": "markdown",
      "source": [
        "# 8)"
      ],
      "metadata": {
        "id": "a-70otgLymyB"
      }
    },
    {
      "cell_type": "code",
      "source": [
        "The answer is 600\n",
        "explanation:-\n",
        "we need to use the formula for the sample size:\n",
        "n = (Z^2 * σ^2) / E^2\n",
        "n = (1.96^2 * 0.5 * 0.5) / 0.04^2 = 600.25"
      ],
      "metadata": {
        "id": "Uhq6h033yoRd"
      },
      "execution_count": null,
      "outputs": []
    },
    {
      "cell_type": "markdown",
      "source": [
        "# 9)"
      ],
      "metadata": {
        "id": "FkHHfdOdz_Ex"
      }
    },
    {
      "cell_type": "code",
      "source": [
        "The answer is 1000\n",
        "explanation:-\n",
        "n = (Z^2 * p * q) / E^2\n",
        "n = (2.33^2 * 0.5 * 0.5) / 0.04^2 = 1067.11\n",
        "rounding up the neareast whole number the answer is 1000"
      ],
      "metadata": {
        "id": "7u8CjWEuz-lW"
      },
      "execution_count": null,
      "outputs": []
    }
  ]
}