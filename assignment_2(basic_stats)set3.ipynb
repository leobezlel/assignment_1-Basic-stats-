{
  "nbformat": 4,
  "nbformat_minor": 0,
  "metadata": {
    "colab": {
      "provenance": [],
      "authorship_tag": "ABX9TyPSCgOdr2OZh5zaGUh0/P7K",
      "include_colab_link": true
    },
    "kernelspec": {
      "name": "python3",
      "display_name": "Python 3"
    },
    "language_info": {
      "name": "python"
    }
  },
  "cells": [
    {
      "cell_type": "markdown",
      "metadata": {
        "id": "view-in-github",
        "colab_type": "text"
      },
      "source": [
        "<a href=\"https://colab.research.google.com/github/leobezlel/excelr-assignments/blob/main/assignment_2(basic_stats)set3.ipynb\" target=\"_parent\"><img src=\"https://colab.research.google.com/assets/colab-badge.svg\" alt=\"Open In Colab\"/></a>"
      ]
    },
    {
      "cell_type": "markdown",
      "source": [
        "# 1)"
      ],
      "metadata": {
        "id": "DUpH1-WrsA_R"
      }
    },
    {
      "cell_type": "code",
      "execution_count": null,
      "metadata": {
        "id": "Rbue2LuBro5y"
      },
      "outputs": [],
      "source": [
        "#I)\n",
        "False.\n",
        "The sample size needed to produce representative results depends on various factors,\n",
        "such as the population size, the degree of variability in the population, and the desired level of precision."
      ]
    },
    {
      "cell_type": "code",
      "source": [
        "#II)\n",
        "False.\n",
        "The sampling frame is a list of the population from which the sample is drawn.\n",
        "It includes all the elements or units that have a chance of being selected for the survey.\n",
        "It does not consist of those who responded to the survey or not."
      ],
      "metadata": {
        "id": "OdaqVB1wsQrs"
      },
      "execution_count": null,
      "outputs": []
    },
    {
      "cell_type": "code",
      "source": [
        "#III)\n",
        "False.\n",
        "The accuracy of the survey depends on various factors, such as the sample size, sampling method, response rate, and the quality of the data collection.\n",
        "While a larger sample size can improve the accuracy, it is not the only determinant of a more accurate impression of the population."
      ],
      "metadata": {
        "id": "5OO7NO47sg7W"
      },
      "execution_count": null,
      "outputs": []
    },
    {
      "cell_type": "markdown",
      "source": [
        "# 2)"
      ],
      "metadata": {
        "id": "Hg3OoCbTs3As"
      }
    },
    {
      "cell_type": "code",
      "source": [
        "#A)\n",
        "The population in this survey is the readers of PC Magazine."
      ],
      "metadata": {
        "id": "hcCx818Ls157"
      },
      "execution_count": null,
      "outputs": []
    },
    {
      "cell_type": "code",
      "source": [
        "#B)\n",
        "The parameter of interest is the average satisfaction rating of all PC Magazine readers for the Kodak compact digital camera."
      ],
      "metadata": {
        "id": "q5ajpTGmtV9E"
      },
      "execution_count": null,
      "outputs": []
    },
    {
      "cell_type": "code",
      "source": [
        "#C)\n",
        "The sampling frame is a list of all the readers of PC Magazine who received the survey invitation.\n"
      ],
      "metadata": {
        "id": "hVtx-7gwtmwo"
      },
      "execution_count": null,
      "outputs": []
    },
    {
      "cell_type": "code",
      "source": [
        "#D)\n",
        "The sample size for the Kodak compact digital camera in the survey conducted by PC Magazine is 225 readers."
      ],
      "metadata": {
        "id": "qPtmie8Rtov2"
      },
      "execution_count": null,
      "outputs": []
    },
    {
      "cell_type": "code",
      "source": [
        "#E)\n",
        "The sampling design is a self-selected survey where all the readers of PC Magazine were invited to participate in the survey, and only those who chose to participate were included in the sample."
      ],
      "metadata": {
        "id": "qi2hPhdotv2o"
      },
      "execution_count": null,
      "outputs": []
    },
    {
      "cell_type": "code",
      "source": [
        "#F)\n",
        "-Response rate\n",
        "\n",
        "-Rating scale\n",
        "\n",
        "-Limited generalizability\n",
        "\n",
        "-Time of survey"
      ],
      "metadata": {
        "id": "7qlR5HF0t_Jn"
      },
      "execution_count": null,
      "outputs": []
    },
    {
      "cell_type": "markdown",
      "source": [
        "# 3)"
      ],
      "metadata": {
        "id": "0ZuMFeHvurco"
      }
    },
    {
      "cell_type": "code",
      "source": [
        "#I)\n",
        "True.\n",
        "The confidence interval represents a range of plausible values for the population mean, so $100 is a plausible value for the population mean at the 95% confidence level."
      ],
      "metadata": {
        "id": "qXWFqXlWurK5"
      },
      "execution_count": null,
      "outputs": []
    },
    {
      "cell_type": "code",
      "source": [
        "#II)\n",
        "False.\n",
        "The confidence interval indicates that the population proportion of moviegoers who purchase concessions is between 30% and 45%, and since 30% is less than 50%,\n",
        "it means that fewer than half of all moviegoers purchase concessions."
      ],
      "metadata": {
        "id": "s4GpSqQfvD0M"
      },
      "execution_count": null,
      "outputs": []
    },
    {
      "cell_type": "code",
      "source": [
        "#III)\n",
        "False.\n",
        "The confidence interval for the population mean is based on the assumption of normality of the sample data,\n",
        "and if the sample data are not normally distributed, the confidence interval may not be accurate."
      ],
      "metadata": {
        "id": "Ta2J8n4svTLW"
      },
      "execution_count": null,
      "outputs": []
    },
    {
      "cell_type": "markdown",
      "source": [
        "# 4)"
      ],
      "metadata": {
        "id": "X1vBearjvwuw"
      }
    },
    {
      "cell_type": "code",
      "source": [
        "The answer is 1, as it is the most high value available in option."
      ],
      "metadata": {
        "id": "BtLOEiXlvhhG"
      },
      "execution_count": null,
      "outputs": []
    },
    {
      "cell_type": "markdown",
      "source": [
        "# 5)"
      ],
      "metadata": {
        "id": "FY60iotfwCQX"
      }
    },
    {
      "cell_type": "code",
      "source": [
        "#I)\n",
        "No, Microsoft cannot conclude that Mozilla has a less than 5% share of the market if the sample is based on 2,000 users.\n",
        "The p-value for the sample is 0.2058, which is greater than the significance level of 0.05.\n",
        "Therefore, Microsoft should not reject the null hypothesis that the Mozilla Firefox browser has a market share of 5% or more."
      ],
      "metadata": {
        "id": "xQ0weEbrv7V4"
      },
      "execution_count": null,
      "outputs": []
    },
    {
      "cell_type": "code",
      "source": [
        "#II)\n",
        "Yes, if WebSideStory's sample includes all the daily Internet users, then Microsoft can conclude that Mozilla has a less than 5% share of the market.\n",
        "Since the sample is not based on a random selection of users, the p-value is not applicable in this scenario.\n",
        "If the sample includes all daily Internet users, then the 4.6% market share is an accurate representation of Mozilla's market share."
      ],
      "metadata": {
        "id": "-HIVT9QZwf48"
      },
      "execution_count": null,
      "outputs": []
    },
    {
      "cell_type": "markdown",
      "source": [
        "# 6)"
      ],
      "metadata": {
        "id": "yuy3tL5AxTCZ"
      }
    },
    {
      "cell_type": "code",
      "source": [
        "The procedure that produced this interval generates ranges that hold the population mean for 95% of samples."
      ],
      "metadata": {
        "id": "Po9VEi7fxSdE"
      },
      "execution_count": null,
      "outputs": []
    },
    {
      "cell_type": "markdown",
      "source": [
        "# 7)"
      ],
      "metadata": {
        "id": "T-dAJzIsxr29"
      }
    },
    {
      "cell_type": "code",
      "source": [
        "Both are equal\n",
        "The t-interval and the z-interval will have the same length when the sample size is large or when the population standard deviation (σ) is known.\n",
        "In this case, the problem states that σ = s, which means that the sample standard deviation is equal to the population standard deviation.\n",
        "Therefore, the t-interval and the z-interval will be equal."
      ],
      "metadata": {
        "id": "-bxhYHH5xq-U"
      },
      "execution_count": null,
      "outputs": []
    },
    {
      "cell_type": "markdown",
      "source": [
        "# 8)"
      ],
      "metadata": {
        "id": "a-70otgLymyB"
      }
    },
    {
      "cell_type": "code",
      "source": [
        "Margin of error = z * sqrt[(p * (1-p)) / n]\n",
        "\n",
        "We want the margin of error to be no more than 4%, so we can set up the following equation:\n",
        "\n",
        "0.04 = 1.96 * sqrt[(0.5 * (1-0.5)) / n]\n",
        "\n",
        "Solving for n, we get:\n",
        "\n",
        "n = (1.96 * sqrt[(0.5 * (1-0.5)) / 0.04])^2\n",
        "\n",
        "n = 600.25\n",
        "\n",
        "therefore we need to contact at least 600 employees."
      ],
      "metadata": {
        "id": "Uhq6h033yoRd"
      },
      "execution_count": null,
      "outputs": []
    },
    {
      "cell_type": "markdown",
      "source": [
        "# 9)"
      ],
      "metadata": {
        "id": "FkHHfdOdz_Ex"
      }
    },
    {
      "cell_type": "code",
      "source": [
        "(n = \\frac{{(2.33)^2 \\times 0.5(1 - 0.5)}}{{(0.04)^2}} = 543)\n",
        "\n",
        "Therefore, the minimum sample size required for a 98% confidence level is 543."
      ],
      "metadata": {
        "id": "7u8CjWEuz-lW"
      },
      "execution_count": null,
      "outputs": []
    }
  ]
}