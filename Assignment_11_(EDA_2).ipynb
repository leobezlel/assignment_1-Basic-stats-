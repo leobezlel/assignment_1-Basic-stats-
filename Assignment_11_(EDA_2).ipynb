{
  "nbformat": 4,
  "nbformat_minor": 0,
  "metadata": {
    "colab": {
      "provenance": [],
      "authorship_tag": "ABX9TyN6Yl1MNrvAZu/yQsaM1tP+",
      "include_colab_link": true
    },
    "kernelspec": {
      "name": "python3",
      "display_name": "Python 3"
    },
    "language_info": {
      "name": "python"
    }
  },
  "cells": [
    {
      "cell_type": "markdown",
      "metadata": {
        "id": "view-in-github",
        "colab_type": "text"
      },
      "source": [
        "<a href=\"https://colab.research.google.com/github/leobezlel/excelr-assignments/blob/main/Assignment_11_(EDA_2).ipynb\" target=\"_parent\"><img src=\"https://colab.research.google.com/assets/colab-badge.svg\" alt=\"Open In Colab\"/></a>"
      ]
    },
    {
      "cell_type": "code",
      "source": [
        "import pandas as pd\n",
        "import numpy as np\n",
        "from sklearn.preprocessing import StandardScaler, MinMaxScaler, OneHotEncoder, LabelEncoder\n",
        "from sklearn.ensemble import IsolationForest"
      ],
      "metadata": {
        "id": "fynHX6Bdz7o5"
      },
      "execution_count": 1,
      "outputs": []
    },
    {
      "cell_type": "code",
      "source": [
        "df = pd.read_csv(\"adult_with_headers.csv\")"
      ],
      "metadata": {
        "id": "O71kuk3AnXS_"
      },
      "execution_count": 2,
      "outputs": []
    },
    {
      "cell_type": "code",
      "source": [
        "summary_stats = df.describe()\n",
        "print(summary_stats)"
      ],
      "metadata": {
        "colab": {
          "base_uri": "https://localhost:8080/"
        },
        "id": "w1yc7g4xnc5I",
        "outputId": "c51cd2e0-c6c9-4c40-c4d0-8904aa22b3e1"
      },
      "execution_count": 3,
      "outputs": [
        {
          "output_type": "stream",
          "name": "stdout",
          "text": [
            "                age        fnlwgt  education_num  capital_gain  capital_loss  \\\n",
            "count  32561.000000  3.256100e+04   32561.000000  32561.000000  32561.000000   \n",
            "mean      38.581647  1.897784e+05      10.080679   1077.648844     87.303830   \n",
            "std       13.640433  1.055500e+05       2.572720   7385.292085    402.960219   \n",
            "min       17.000000  1.228500e+04       1.000000      0.000000      0.000000   \n",
            "25%       28.000000  1.178270e+05       9.000000      0.000000      0.000000   \n",
            "50%       37.000000  1.783560e+05      10.000000      0.000000      0.000000   \n",
            "75%       48.000000  2.370510e+05      12.000000      0.000000      0.000000   \n",
            "max       90.000000  1.484705e+06      16.000000  99999.000000   4356.000000   \n",
            "\n",
            "       hours_per_week  \n",
            "count    32561.000000  \n",
            "mean        40.437456  \n",
            "std         12.347429  \n",
            "min          1.000000  \n",
            "25%         40.000000  \n",
            "50%         40.000000  \n",
            "75%         45.000000  \n",
            "max         99.000000  \n"
          ]
        }
      ]
    },
    {
      "cell_type": "code",
      "source": [
        "missing_values = df.isnull().sum()\n",
        "print(missing_values)"
      ],
      "metadata": {
        "colab": {
          "base_uri": "https://localhost:8080/"
        },
        "id": "oHqGK9thng93",
        "outputId": "1942d081-feea-4013-a54b-3d4f16c5516c"
      },
      "execution_count": 4,
      "outputs": [
        {
          "output_type": "stream",
          "name": "stdout",
          "text": [
            "age               0\n",
            "workclass         0\n",
            "fnlwgt            0\n",
            "education         0\n",
            "education_num     0\n",
            "marital_status    0\n",
            "occupation        0\n",
            "relationship      0\n",
            "race              0\n",
            "sex               0\n",
            "capital_gain      0\n",
            "capital_loss      0\n",
            "hours_per_week    0\n",
            "native_country    0\n",
            "income            0\n",
            "dtype: int64\n"
          ]
        }
      ]
    },
    {
      "cell_type": "code",
      "source": [
        "data_types = df.dtypes\n",
        "print(data_types)"
      ],
      "metadata": {
        "colab": {
          "base_uri": "https://localhost:8080/"
        },
        "id": "_o60qYZIni0w",
        "outputId": "2bb1fecf-ad12-44d3-fd79-5fc4f9e6f9ed"
      },
      "execution_count": 5,
      "outputs": [
        {
          "output_type": "stream",
          "name": "stdout",
          "text": [
            "age                int64\n",
            "workclass         object\n",
            "fnlwgt             int64\n",
            "education         object\n",
            "education_num      int64\n",
            "marital_status    object\n",
            "occupation        object\n",
            "relationship      object\n",
            "race              object\n",
            "sex               object\n",
            "capital_gain       int64\n",
            "capital_loss       int64\n",
            "hours_per_week     int64\n",
            "native_country    object\n",
            "income            object\n",
            "dtype: object\n"
          ]
        }
      ]
    },
    {
      "cell_type": "code",
      "source": [
        "print (df.shape)"
      ],
      "metadata": {
        "colab": {
          "base_uri": "https://localhost:8080/"
        },
        "id": "N4PQ2jaBnkUW",
        "outputId": "fde1e88a-b086-48e2-8093-ed29aeff64ba"
      },
      "execution_count": 6,
      "outputs": [
        {
          "output_type": "stream",
          "name": "stdout",
          "text": [
            "(32561, 15)\n"
          ]
        }
      ]
    },
    {
      "cell_type": "code",
      "source": [
        "print(df.columns)"
      ],
      "metadata": {
        "colab": {
          "base_uri": "https://localhost:8080/"
        },
        "id": "-BjZMPvAnobO",
        "outputId": "76dba63a-a3bf-4f10-eb0f-6550b7973995"
      },
      "execution_count": 7,
      "outputs": [
        {
          "output_type": "stream",
          "name": "stdout",
          "text": [
            "Index(['age', 'workclass', 'fnlwgt', 'education', 'education_num',\n",
            "       'marital_status', 'occupation', 'relationship', 'race', 'sex',\n",
            "       'capital_gain', 'capital_loss', 'hours_per_week', 'native_country',\n",
            "       'income'],\n",
            "      dtype='object')\n"
          ]
        }
      ]
    },
    {
      "cell_type": "code",
      "source": [
        "numerical_features = ['age', 'fnlwgt', 'education_num', 'capital_gain', 'capital_loss', 'hours_per_week']\n"
      ],
      "metadata": {
        "id": "56JGTgERntl6"
      },
      "execution_count": 8,
      "outputs": []
    },
    {
      "cell_type": "code",
      "source": [
        "scaler_standard = StandardScaler()\n",
        "df[numerical_features] = scaler_standard.fit_transform(df[numerical_features])"
      ],
      "metadata": {
        "id": "jZgAbnLGnyxG"
      },
      "execution_count": 9,
      "outputs": []
    },
    {
      "cell_type": "code",
      "source": [
        "scaler_minmax = MinMaxScaler()\n",
        "df[numerical_features] = scaler_minmax.fit_transform(df[numerical_features])"
      ],
      "metadata": {
        "id": "yWvdYWEyn04i"
      },
      "execution_count": 10,
      "outputs": []
    },
    {
      "cell_type": "code",
      "source": [
        "categorical_features_onehot = ['workclass', 'education', 'marital_status', 'relationship', 'race', 'sex']\n",
        "encoder_onehot = OneHotEncoder()\n",
        "encoded_onehot = encoder_onehot.fit_transform(df[categorical_features_onehot])"
      ],
      "metadata": {
        "id": "YeABq0zzn2be"
      },
      "execution_count": 11,
      "outputs": []
    },
    {
      "cell_type": "code",
      "source": [
        "categorical_features_label = ['occupation', 'native_country']\n",
        "encoder_label = LabelEncoder()\n",
        "for feature in categorical_features_label:\n",
        "    df[feature] = encoder_label.fit_transform(df[feature])"
      ],
      "metadata": {
        "id": "DWDM7Tgfn4Pi"
      },
      "execution_count": 12,
      "outputs": []
    },
    {
      "cell_type": "code",
      "source": [
        "# Create new features\n",
        "df['capital_diff'] = df['capital_gain'] - df['capital_loss']\n",
        "df['age_hours_ratio'] = df['age'] / df['hours_per_week']\n",
        "\n",
        "# Apply log transformation to 'capital_gain'\n",
        "import numpy as np\n",
        "df['capital_gain_log'] = np.log(df['capital_gain'] + 1)  # Adding 1 to avoid log(0)"
      ],
      "metadata": {
        "id": "9J87OcZZn5ug"
      },
      "execution_count": 13,
      "outputs": []
    },
    {
      "cell_type": "code",
      "source": [
        "# Define the Isolation Forest model\n",
        "clf = IsolationForest(random_state=42, contamination=0.01)  # Contamination is the proportion of outliers\n",
        "\n",
        "# Fit the Isolation Forest model to numerical features\n",
        "clf.fit(df[numerical_features])\n",
        "\n",
        "# Predict outliers\n",
        "outliers = clf.predict(df[numerical_features])\n",
        "\n",
        "# Remove outliers\n",
        "df_cleaned = df[outliers != -1]\n",
        "\n",
        "# Print the shape of the cleaned dataset\n",
        "print(\"Original dataset shape:\", df.shape)\n",
        "print(\"Cleaned dataset shape:\", df_cleaned.shape)"
      ],
      "metadata": {
        "colab": {
          "base_uri": "https://localhost:8080/"
        },
        "id": "0Oj9tCpqn8CM",
        "outputId": "4fa15e5e-e155-4780-b2b7-567ebdfe87bf"
      },
      "execution_count": 14,
      "outputs": [
        {
          "output_type": "stream",
          "name": "stderr",
          "text": [
            "/usr/local/lib/python3.10/dist-packages/sklearn/base.py:439: UserWarning: X does not have valid feature names, but IsolationForest was fitted with feature names\n",
            "  warnings.warn(\n"
          ]
        },
        {
          "output_type": "stream",
          "name": "stdout",
          "text": [
            "Original dataset shape: (32561, 18)\n",
            "Cleaned dataset shape: (32235, 18)\n"
          ]
        }
      ]
    },
    {
      "cell_type": "code",
      "source": [
        "# Compute Pearson correlation coefficient manually\n",
        "correlation_matrix = df_cleaned[numerical_features].corr()\n",
        "\n",
        "# Square the absolute values of the correlation coefficients to get the PPS\n",
        "pps_matrix = correlation_matrix.applymap(lambda x: np.square(abs(x)))\n",
        "\n",
        "print(pps_matrix)"
      ],
      "metadata": {
        "colab": {
          "base_uri": "https://localhost:8080/"
        },
        "id": "u_hNhgsdn-Gy",
        "outputId": "1f561e93-6feb-480d-9ede-808554ea45a5"
      },
      "execution_count": 15,
      "outputs": [
        {
          "output_type": "stream",
          "name": "stdout",
          "text": [
            "                     age    fnlwgt  education_num  capital_gain  capital_loss  \\\n",
            "age             1.000000  0.005976       0.000988      0.011704      0.001659   \n",
            "fnlwgt          0.005976  1.000000       0.001922      0.000067      0.000176   \n",
            "education_num   0.000988  0.001922       1.000000      0.020163      0.006228   \n",
            "capital_gain    0.011704  0.000067       0.020163      1.000000      0.002273   \n",
            "capital_loss    0.001659  0.000176       0.006228      0.002273      1.000000   \n",
            "hours_per_week  0.005061  0.000467       0.020770      0.006858      0.002087   \n",
            "\n",
            "                hours_per_week  \n",
            "age                   0.005061  \n",
            "fnlwgt                0.000467  \n",
            "education_num         0.020770  \n",
            "capital_gain          0.006858  \n",
            "capital_loss          0.002087  \n",
            "hours_per_week        1.000000  \n"
          ]
        }
      ]
    }
  ]
}