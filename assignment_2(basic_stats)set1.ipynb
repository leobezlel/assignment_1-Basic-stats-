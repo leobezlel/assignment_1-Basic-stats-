{
  "nbformat": 4,
  "nbformat_minor": 0,
  "metadata": {
    "colab": {
      "provenance": [],
      "authorship_tag": "ABX9TyMDISbkK8Kk5RsImdQYmlCD",
      "include_colab_link": true
    },
    "kernelspec": {
      "name": "python3",
      "display_name": "Python 3"
    },
    "language_info": {
      "name": "python"
    }
  },
  "cells": [
    {
      "cell_type": "markdown",
      "metadata": {
        "id": "view-in-github",
        "colab_type": "text"
      },
      "source": [
        "<a href=\"https://colab.research.google.com/github/leobezlel/assignment_1-Basic-stats-/blob/main/assignment_2(basic_stats)set1.ipynb\" target=\"_parent\"><img src=\"https://colab.research.google.com/assets/colab-badge.svg\" alt=\"Open In Colab\"/></a>"
      ]
    },
    {
      "cell_type": "markdown",
      "source": [
        "# 1)"
      ],
      "metadata": {
        "id": "-ZPOutfLXS9X"
      }
    },
    {
      "cell_type": "code",
      "execution_count": 20,
      "metadata": {
        "id": "h0ZLhbsSXNUo"
      },
      "outputs": [],
      "source": [
        "import numpy as np\n"
      ]
    },
    {
      "cell_type": "code",
      "source": [
        "df=[24.23,25.53,25.41,24.14,29.62,28.25,25.81,24.39,40.26,32.95,91.36,25.99,39.42,26.71,35.00]"
      ],
      "metadata": {
        "id": "gTLxh_u-YTcr"
      },
      "execution_count": 13,
      "outputs": []
    },
    {
      "cell_type": "code",
      "source": [
        "mean=np.mean(df)\n",
        "mean"
      ],
      "metadata": {
        "colab": {
          "base_uri": "https://localhost:8080/"
        },
        "id": "tXQPA9ocbD_4",
        "outputId": "4e56ef4d-aee4-4a75-c1f6-64308eb03710"
      },
      "execution_count": 17,
      "outputs": [
        {
          "output_type": "execute_result",
          "data": {
            "text/plain": [
              "33.27133333333333"
            ]
          },
          "metadata": {},
          "execution_count": 17
        }
      ]
    },
    {
      "cell_type": "code",
      "source": [
        "std=np.std(df)\n",
        "std"
      ],
      "metadata": {
        "colab": {
          "base_uri": "https://localhost:8080/"
        },
        "id": "TifBQGyZbZAa",
        "outputId": "6fe3d7af-6c76-4cdc-f40e-95fe11a2c51c"
      },
      "execution_count": 18,
      "outputs": [
        {
          "output_type": "execute_result",
          "data": {
            "text/plain": [
              "16.370812590976932"
            ]
          },
          "metadata": {},
          "execution_count": 18
        }
      ]
    },
    {
      "cell_type": "code",
      "source": [
        "var=np.var(df)\n",
        "var"
      ],
      "metadata": {
        "colab": {
          "base_uri": "https://localhost:8080/"
        },
        "id": "FU6oRMOibi0A",
        "outputId": "010e721f-a1c5-4e02-9151-5fef092a1e32"
      },
      "execution_count": 19,
      "outputs": [
        {
          "output_type": "execute_result",
          "data": {
            "text/plain": [
              "268.00350488888887"
            ]
          },
          "metadata": {},
          "execution_count": 19
        }
      ]
    },
    {
      "cell_type": "markdown",
      "source": [
        "# 2)"
      ],
      "metadata": {
        "id": "OjK4fT1laeuA"
      }
    },
    {
      "cell_type": "code",
      "source": [
        "#1)\n",
        "IQR = (Q3 – Q1) = (12 – 5) = 7(approx.)\n",
        "It tells about middle 50% of the data distribution and this data not affected by outliers"
      ],
      "metadata": {
        "id": "iLxJ69ZkZyv-"
      },
      "execution_count": null,
      "outputs": []
    },
    {
      "cell_type": "code",
      "source": [
        "#2)\n",
        "Positive Skewness, due median is closer to lower quartile"
      ],
      "metadata": {
        "id": "vexDIN9IaqgX"
      },
      "execution_count": null,
      "outputs": []
    },
    {
      "cell_type": "code",
      "source": [
        "#3)\n",
        "There will be no outlier in the data and the point will be included in the main body or box of boxplot.\n",
        "The whisker on the right side of the boxplot would likely extend further, and the overall range of data represented by the boxplot would decrease"
      ],
      "metadata": {
        "id": "Jsyq5JxcatkL"
      },
      "execution_count": null,
      "outputs": []
    },
    {
      "cell_type": "markdown",
      "source": [
        "# 3)"
      ],
      "metadata": {
        "id": "Vp5UkCiGbr9N"
      }
    },
    {
      "cell_type": "code",
      "source": [
        "#1)\n",
        "The mode of this dataset would lie around the value of 5 on the X-axis as that is where the highest frequency (around 20) occurs."
      ],
      "metadata": {
        "id": "ci5i7gmla6bI"
      },
      "execution_count": null,
      "outputs": []
    },
    {
      "cell_type": "code",
      "source": [
        "#2)\n",
        "The dataset is positively skewed, meaning that there are a number of smaller observations stretching the distribution to the right."
      ],
      "metadata": {
        "id": "9f1BeGqDcPL3"
      },
      "execution_count": null,
      "outputs": []
    },
    {
      "cell_type": "code",
      "source": [
        "#3)\n",
        "Histogram can provide insights into the distribution and skewness of data, while box-plots can offer additional information about data’s central tendency, variability, and presence of outliers.\n",
        " Box-plots can complement histograms by providing a visual representation of the median, quartiles, and outliers of the data."
      ],
      "metadata": {
        "id": "sjnjZFZAcS01"
      },
      "execution_count": null,
      "outputs": []
    },
    {
      "cell_type": "markdown",
      "source": [
        "# 4)"
      ],
      "metadata": {
        "id": "2SffSuEAceGt"
      }
    },
    {
      "cell_type": "code",
      "source": [
        "P (directed correctly) = 1 – 1/200 = 199/200\n",
        "The probability for at least one in five attempted telephone calls reaching the wrong number is:\n",
        "          P (at least one in five is wrong number) = 1 – P (none in five is wrong) = 1 – (199/200)^5 ≈ 0.02475\n",
        "Therefore, the probability that at least one in five attempted telephone calls reaches the wrong number is approximately 0.02475.\n"
      ],
      "metadata": {
        "id": "H11DAw86cgNx"
      },
      "execution_count": null,
      "outputs": []
    },
    {
      "cell_type": "markdown",
      "source": [
        "# 5)"
      ],
      "metadata": {
        "id": "4kWwdru6fY2q"
      }
    },
    {
      "cell_type": "code",
      "source": [
        "#1)\n",
        "The most likely monetary outcome of the business venture is $2,000 as it has the highest probability of 0.3"
      ],
      "metadata": {
        "id": "55I44RnafYKQ"
      },
      "execution_count": null,
      "outputs": []
    },
    {
      "cell_type": "code",
      "source": [
        "#2)\n",
        "The venture has a 0.6 probability of either breaking even or making a profit, and a 0.2 probability of making a loss. So, it is more likely to be successful than unsuccessful"
      ],
      "metadata": {
        "id": "WYn1j2KYfejW"
      },
      "execution_count": null,
      "outputs": []
    },
    {
      "cell_type": "code",
      "source": [
        "#3)\n",
        "The long-term average earning can be calculated by multiplying each outcome by its probability and summing those products:\n",
        "\n",
        "x=(-2000*0.1)+(-1000*0.1)+(0*0.2)+(1000*0.2)+(2000*0.3)+(3000*0.1)\n",
        "x = 800\n",
        "Therefore, the average earning is equals to $800"
      ],
      "metadata": {
        "id": "vdZa-uBKfiab"
      },
      "execution_count": null,
      "outputs": []
    },
    {
      "cell_type": "code",
      "source": [
        "#4)\n",
        "The expected value is $800, the standard deviation, which measures the risk involved in this venture, is approximately $1280.62.\n",
        "The higher the standard deviation, the higher the risk. In this case, the risk is relatively high."
      ],
      "metadata": {
        "id": "SouVeDjWgbHN"
      },
      "execution_count": null,
      "outputs": []
    }
  ]
}