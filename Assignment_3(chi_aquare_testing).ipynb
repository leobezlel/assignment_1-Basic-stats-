{
  "nbformat": 4,
  "nbformat_minor": 0,
  "metadata": {
    "colab": {
      "provenance": [],
      "authorship_tag": "ABX9TyMm5SUoE/SDqf314J0n/jJn",
      "include_colab_link": true
    },
    "kernelspec": {
      "name": "python3",
      "display_name": "Python 3"
    },
    "language_info": {
      "name": "python"
    }
  },
  "cells": [
    {
      "cell_type": "markdown",
      "metadata": {
        "id": "view-in-github",
        "colab_type": "text"
      },
      "source": [
        "<a href=\"https://colab.research.google.com/github/leobezlel/excelr-assignments/blob/main/Assignment_3(chi_aquare_testing).ipynb\" target=\"_parent\"><img src=\"https://colab.research.google.com/assets/colab-badge.svg\" alt=\"Open In Colab\"/></a>"
      ]
    },
    {
      "cell_type": "code",
      "execution_count": 1,
      "metadata": {
        "id": "MVE7GvKMUBoU"
      },
      "outputs": [],
      "source": [
        "import numpy as np\n",
        "from scipy.stats import chi2"
      ]
    },
    {
      "cell_type": "code",
      "source": [
        "observed = np.array([[50, 70],\n",
        "                     [80, 100],\n",
        "                     [60, 90],\n",
        "                     [30, 50],\n",
        "                     [20, 50]])"
      ],
      "metadata": {
        "id": "3mXjgUlzUcYW"
      },
      "execution_count": 2,
      "outputs": []
    },
    {
      "cell_type": "code",
      "source": [
        "# Calculate expected frequencies\n",
        "row_totals = observed.sum(axis=1)\n",
        "col_totals = observed.sum(axis=0)\n",
        "total = observed.sum()\n",
        "expected = np.outer(row_totals, col_totals) / total"
      ],
      "metadata": {
        "id": "9PLiP8eNUgzN"
      },
      "execution_count": 3,
      "outputs": []
    },
    {
      "cell_type": "code",
      "source": [
        "chi2_statistic = np.sum((observed - expected)**2 / expected)"
      ],
      "metadata": {
        "id": "FNBoGIxsUrNi"
      },
      "execution_count": 4,
      "outputs": []
    },
    {
      "cell_type": "code",
      "source": [
        "degrees_of_freedom = (observed.shape[0] - 1) * (observed.shape[1] - 1)"
      ],
      "metadata": {
        "id": "rcZuUrffUuGG"
      },
      "execution_count": 5,
      "outputs": []
    },
    {
      "cell_type": "code",
      "source": [
        "alpha = 0.05\n",
        "critical_value = chi2.ppf(1 - alpha, degrees_of_freedom)"
      ],
      "metadata": {
        "id": "EpFA6UwoUv6y"
      },
      "execution_count": 6,
      "outputs": []
    },
    {
      "cell_type": "code",
      "source": [
        "if chi2_statistic > critical_value:\n",
        "    conclusion = \"Reject the null hypothesis\"\n",
        "else:\n",
        "    conclusion = \"Fail to reject the null hypothesis\"\n",
        "\n",
        "print(\"Chi-Square Statistic:\", chi2_statistic)\n",
        "print(\"Critical Value:\", critical_value)\n",
        "print(\"Conclusion:\", conclusion)"
      ],
      "metadata": {
        "colab": {
          "base_uri": "https://localhost:8080/"
        },
        "id": "YHHwT24EUxx9",
        "outputId": "29d3c6bb-c78c-48ad-96ad-2f3f6fe25ada"
      },
      "execution_count": 7,
      "outputs": [
        {
          "output_type": "stream",
          "name": "stdout",
          "text": [
            "Chi-Square Statistic: 5.638227513227513\n",
            "Critical Value: 9.487729036781154\n",
            "Conclusion: Fail to reject the null hypothesis\n"
          ]
        }
      ]
    },
    {
      "cell_type": "code",
      "source": [],
      "metadata": {
        "id": "6ljnvsZtUzjw"
      },
      "execution_count": null,
      "outputs": []
    }
  ]
}